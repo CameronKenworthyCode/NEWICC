{
  "nbformat": 4,
  "nbformat_minor": 0,
  "metadata": {
    "colab": {
      "name": "PLSS.ipynb",
      "provenance": [],
      "collapsed_sections": [],
      "authorship_tag": "ABX9TyP8dFtxcpzqq+avBWrHSbHT",
      "include_colab_link": true
    },
    "kernelspec": {
      "name": "python3",
      "display_name": "Python 3"
    },
    "language_info": {
      "name": "python"
    }
  },
  "cells": [
    {
      "cell_type": "markdown",
      "metadata": {
        "id": "view-in-github",
        "colab_type": "text"
      },
      "source": [
        "<a href=\"https://colab.research.google.com/github/CameronKenworthyCode/NEWICC/blob/main/PLSS.ipynb\" target=\"_parent\"><img src=\"https://colab.research.google.com/assets/colab-badge.svg\" alt=\"Open In Colab\"/></a>"
      ]
    },
    {
      "cell_type": "code",
      "execution_count": null,
      "metadata": {
        "colab": {
          "base_uri": "https://localhost:8080/"
        },
        "id": "hnZoPPAqY6tA",
        "outputId": "83ae348d-0936-4240-8120-5e28351fb387"
      },
      "outputs": [
        {
          "output_type": "stream",
          "name": "stdout",
          "text": [
            "Looking in indexes: https://pypi.org/simple, https://us-python.pkg.dev/colab-wheels/public/simple/\n",
            "Requirement already satisfied: pymongo[srv] in /usr/local/lib/python3.7/dist-packages (4.1.1)\n",
            "Collecting dnspython<3.0.0,>=1.16.0\n",
            "  Downloading dnspython-2.2.1-py3-none-any.whl (269 kB)\n",
            "\u001b[K     |████████████████████████████████| 269 kB 7.3 MB/s \n",
            "\u001b[?25hInstalling collected packages: dnspython\n",
            "Successfully installed dnspython-2.2.1\n",
            "Looking in indexes: https://pypi.org/simple, https://us-python.pkg.dev/colab-wheels/public/simple/\n",
            "Requirement already satisfied: dnspython in /usr/local/lib/python3.7/dist-packages (2.2.1)\n",
            "Looking in indexes: https://pypi.org/simple, https://us-python.pkg.dev/colab-wheels/public/simple/\n",
            "Requirement already satisfied: requests in /usr/local/lib/python3.7/dist-packages (2.23.0)\n",
            "Requirement already satisfied: certifi>=2017.4.17 in /usr/local/lib/python3.7/dist-packages (from requests) (2022.6.15)\n",
            "Requirement already satisfied: chardet<4,>=3.0.2 in /usr/local/lib/python3.7/dist-packages (from requests) (3.0.4)\n",
            "Requirement already satisfied: idna<3,>=2.5 in /usr/local/lib/python3.7/dist-packages (from requests) (2.10)\n",
            "Requirement already satisfied: urllib3!=1.25.0,!=1.25.1,<1.26,>=1.21.1 in /usr/local/lib/python3.7/dist-packages (from requests) (1.24.3)\n",
            "Looking in indexes: https://pypi.org/simple, https://us-python.pkg.dev/colab-wheels/public/simple/\n",
            "Requirement already satisfied: bs4 in /usr/local/lib/python3.7/dist-packages (0.0.1)\n",
            "Requirement already satisfied: beautifulsoup4 in /usr/local/lib/python3.7/dist-packages (from bs4) (4.6.3)\n",
            "Looking in indexes: https://pypi.org/simple, https://us-python.pkg.dev/colab-wheels/public/simple/\n",
            "Collecting html2text\n",
            "  Downloading html2text-2020.1.16-py3-none-any.whl (32 kB)\n",
            "Installing collected packages: html2text\n",
            "Successfully installed html2text-2020.1.16\n",
            "Mounted at /content/drive/\n"
          ]
        }
      ],
      "source": [
        "!pip install pymongo[srv]\n",
        "!pip install dnspython\n",
        "!pip install requests\n",
        "!pip install bs4\n",
        "!pip install html2text\n",
        "!pip install -U -q PyDrive\n",
        "\n",
        "import html2text\n",
        "from ast import literal_eval\n",
        "import requests\n",
        "from bs4 import BeautifulSoup\n",
        "import pandas as pd\n",
        "from pymongo import MongoClient\n",
        "from bson.objectid import ObjectId\n",
        "import numpy as np\n",
        "import os\n",
        "from pydrive.auth import GoogleAuth\n",
        "from pydrive.drive import GoogleDrive\n",
        "from google.colab import auth\n",
        "from google.colab import drive\n",
        "from oauth2client.client import GoogleCredentials\n",
        "\n",
        "auth.authenticate_user() #establish connection to a gdrive to write the eventual csv file to\n",
        "gauth = GoogleAuth()\n",
        "gauth.credentials = GoogleCredentials.get_application_default()\n",
        "gdrive = GoogleDrive(gauth)\n",
        "\n",
        "local_download_path = os.path.expanduser('~/data')\n",
        "try:\n",
        "  os.makedirs(local_download_path)\n",
        "except: pass\n",
        "\n",
        "drive.mount('/content/drive/', force_remount=True)\n",
        "\n",
        "file_list = gdrive.ListFile(\n",
        "    {'q': \"'1DWFETkLt-dWcA7CfymejJe7O-UJxSR4B' in parents and trashed=False\"}).GetList() "
      ]
    },
    {
      "cell_type": "code",
      "source": [
        "file_list[0]"
      ],
      "metadata": {
        "colab": {
          "base_uri": "https://localhost:8080/"
        },
        "id": "IhjgGMezaU3O",
        "outputId": "73f05f56-7d7d-416f-c88e-57e1689d40c3"
      },
      "execution_count": null,
      "outputs": [
        {
          "output_type": "execute_result",
          "data": {
            "text/plain": [
              "GoogleDriveFile({'kind': 'drive#file', 'id': '1KNxBQXIKc2rGgIcjR3wh95F0eh1fuxr1', 'etag': '\"MTY1ODAxNTI0NTI1MA\"', 'selfLink': 'https://www.googleapis.com/drive/v2/files/1KNxBQXIKc2rGgIcjR3wh95F0eh1fuxr1', 'webContentLink': 'https://drive.google.com/uc?id=1KNxBQXIKc2rGgIcjR3wh95F0eh1fuxr1&export=download', 'alternateLink': 'https://colab.research.google.com/drive/1KNxBQXIKc2rGgIcjR3wh95F0eh1fuxr1', 'embedLink': 'https://drive.google.com/file/d/1KNxBQXIKc2rGgIcjR3wh95F0eh1fuxr1/preview?usp=drivesdk', 'iconLink': 'https://drive-thirdparty.googleusercontent.com/16/type/application/vnd.google.colaboratory', 'title': 'PLSS.ipynb', 'mimeType': 'application/vnd.google.colaboratory', 'description': 'Colaboratory notebook', 'labels': {'starred': False, 'hidden': False, 'trashed': False, 'restricted': False, 'viewed': True}, 'copyRequiresWriterPermission': False, 'createdDate': '2022-07-16T23:41:41.265Z', 'modifiedDate': '2022-07-16T23:47:25.250Z', 'modifiedByMeDate': '2022-07-16T23:47:25.250Z', 'lastViewedByMeDate': '2022-07-16T23:47:25.250Z', 'markedViewedByMeDate': '1970-01-01T00:00:00.000Z', 'version': '11', 'parents': [{'kind': 'drive#parentReference', 'id': '1DWFETkLt-dWcA7CfymejJe7O-UJxSR4B', 'selfLink': 'https://www.googleapis.com/drive/v2/files/1KNxBQXIKc2rGgIcjR3wh95F0eh1fuxr1/parents/1DWFETkLt-dWcA7CfymejJe7O-UJxSR4B', 'parentLink': 'https://www.googleapis.com/drive/v2/files/1DWFETkLt-dWcA7CfymejJe7O-UJxSR4B', 'isRoot': False}], 'downloadUrl': 'https://www.googleapis.com/drive/v2/files/1KNxBQXIKc2rGgIcjR3wh95F0eh1fuxr1?alt=media&source=downloadUrl', 'userPermission': {'kind': 'drive#permission', 'etag': '\"mS_IpnvCziZEsZ0COz2jW8LziKA\"', 'id': 'me', 'selfLink': 'https://www.googleapis.com/drive/v2/files/1KNxBQXIKc2rGgIcjR3wh95F0eh1fuxr1/permissions/me', 'role': 'owner', 'type': 'user', 'pendingOwner': False}, 'originalFilename': 'PLSS.ipynb', 'fileExtension': 'ipynb', 'md5Checksum': '50b3ebdb5593d667d1b7e1d9f859b965', 'fileSize': '3747', 'quotaBytesUsed': '4399', 'ownerNames': ['Cameron Ken'], 'owners': [{'kind': 'drive#user', 'displayName': 'Cameron Ken', 'picture': {'url': 'https://lh3.googleusercontent.com/a-/AFdZucozS1ogmct3YWCdJzC6e4Cg2dmINSU-MTJxFLaCQw=s64'}, 'isAuthenticatedUser': True, 'permissionId': '04205489972513259652', 'emailAddress': 'cameronj.kenworthy@gmail.com'}], 'lastModifyingUserName': 'Cameron Ken', 'lastModifyingUser': {'kind': 'drive#user', 'displayName': 'Cameron Ken', 'picture': {'url': 'https://lh3.googleusercontent.com/a-/AFdZucozS1ogmct3YWCdJzC6e4Cg2dmINSU-MTJxFLaCQw=s64'}, 'isAuthenticatedUser': True, 'permissionId': '04205489972513259652', 'emailAddress': 'cameronj.kenworthy@gmail.com'}, 'capabilities': {'canCopy': True, 'canEdit': True}, 'editable': True, 'copyable': True, 'writersCanShare': True, 'shared': False, 'explicitlyTrashed': False, 'appDataContents': False, 'headRevisionId': '0BweSEEO_cAIFTDYyd1Bjb0M5bzRwZkRWT2VsNklFakRhTVA0PQ', 'spaces': ['drive']})"
            ]
          },
          "metadata": {},
          "execution_count": 3
        }
      ]
    },
    {
      "cell_type": "markdown",
      "source": [
        "# TODO\n",
        "\n",
        "- generate URLS\n",
        "- batch query https://gis.blm.gov/arcgis/rest/services/Cadastral/BLM_Natl_PLSS_CadNSDI/MapServer/exts/CadastralSpecialServices/GetLatLon?trs=\n",
        "- save geometry long/lat coords\n",
        "  - number of coords given varies per section\n",
        "    - get corners\n",
        "      - get all points along each edge\n",
        "    - infer outline of township range from edges of sections\n",
        "- infer shape from coords\n",
        "- save all as csv\n",
        "- code to calculate if coord is in shape"
      ],
      "metadata": {
        "id": "w3hZ6xzYac9C"
      }
    },
    {
      "cell_type": "markdown",
      "source": [
        "#Generate URL Queries"
      ],
      "metadata": {
        "id": "Kbieh-fuclFA"
      }
    },
    {
      "cell_type": "markdown",
      "source": [
        "TOWN: 1N -> 41N\n",
        "\n",
        "RANGE: 16W -> 47E\n"
      ],
      "metadata": {
        "id": "0ARVMQCLd4jk"
      }
    },
    {
      "cell_type": "code",
      "source": [
        "# generate set of strings in form WA330##0N0##0E0SN##0 or WA330##0N0##0W0SN##0\n",
        "def generate_url(town, _range):\n",
        "  t_ = town[:-1]\n",
        "  if int(t_) < 10:\n",
        "    t_ = '0' + t_\n",
        "  r_ = _range[:-1]\n",
        "  if int(r_) < 10:\n",
        "    r_ = '0' + r_\n",
        "  r_ = r_ + '0' + _range[-1:]\n",
        "  base_string = 'WA330'+ t_ + '0N0' + r_ + '0SN'\n",
        "  section_list = []\n",
        "  for i in range(1, 60):\n",
        "    s_ = str(i) + '0'\n",
        "    if i < 10:\n",
        "      s_ = '0' + str(i) + '0'\n",
        "    section_list.append(base_string+s_)\n",
        "  \n",
        "  return section_list\n",
        "  "
      ],
      "metadata": {
        "id": "ksa7mr0kncZR"
      },
      "execution_count": 54,
      "outputs": []
    },
    {
      "cell_type": "code",
      "source": [
        "trs = []\n",
        "\n",
        "for i in range(1,42):\n",
        "  for j in range(1,17):\n",
        "    trs.append([str(i)+'N', str(j)+'W'])\n",
        "\n",
        "for i in range(1, 42):\n",
        "  for j in range(1, 48):\n",
        "    trs.append([str(i)+'N', str(j)+'E'])\n",
        "\n",
        "url_dict = {}\n",
        "for pair in trs:\n",
        "  key = pair[0] + '-' + pair[1]\n",
        "  value = generate_url(pair[0], pair[1])\n",
        "  url_dict[key] = value\n",
        "\n",
        "# go through each T/R pair, and take the next 25 section urls to build a query, save the results and continue to the next 25\n",
        "PLSS_dict = {}\n",
        "base_url = 'https://gis.blm.gov/arcgis/rest/services/Cadastral/BLM_Natl_PLSS_CadNSDI/MapServer/exts/CadastralSpecialServices/GetLatLon?trs='\n",
        "built_url = ''\n",
        "base_url_end = '&returnalllevels=&f=pjson'\n",
        "count = 0\n",
        "for i in range(len(trs)):\n",
        "  for j in range(0, 59):\n",
        "    if count == 25:\n",
        "      print(base_url+built_url+base_url_end)\n",
        "      #query_result = query(base_url+build_url+base_url_end) # send query\n",
        "      #PLSS_dict[trs[i][0] + '-' + trs[i][1] + '-' + j] = query_result\n",
        "      built_url = ''\n",
        "      count = 0\n",
        "    count += 1\n",
        "    built_url = built_url + url_dict[trs[i][0] + '-' + trs[i][1]][j] + '+%7C+'"
      ],
      "metadata": {
        "id": "yelOJsT9114Y"
      },
      "execution_count": null,
      "outputs": []
    },
    {
      "cell_type": "code",
      "source": [
        "built_url = ''\n",
        "built_url = built_url + url_dict[trs[0][0] + '-' + trs[0][1]][0] + '+%7C+'"
      ],
      "metadata": {
        "id": "2U9KQuRL40TT"
      },
      "execution_count": 63,
      "outputs": []
    },
    {
      "cell_type": "code",
      "source": [
        "url_dict[trs[0][0] + '-' + trs[0][1]]"
      ],
      "metadata": {
        "id": "hmx1F8gr0hBU"
      },
      "execution_count": null,
      "outputs": []
    },
    {
      "cell_type": "markdown",
      "source": [
        "https://gis.blm.gov/arcgis/rest/services/Cadastral/BLM_Natl_PLSS_CadNSDI/MapServer/exts/CadastralSpecialServices/GetLatLon?trs=\n",
        "\n",
        "WA33 0**TT**0N 0**RR**0E 0SN**SS**0\n",
        "\n",
        "25 TRS per query\n",
        "\n",
        "```\n",
        "WA330270N0310E0SN060+%7C+ # 27/31/06\n",
        "WA330160N0260E0SN120+%7C+\n",
        "WA330170N0300E0SN170+%7C+\n",
        "WA330170N0280E0SN300+%7C+\n",
        "WA330160N0240E0SN130+%7C+\n",
        "WA330160N0250E0SN080+%7C+\n",
        "WA330160N0240E0SN130+%7C+\n",
        "WA330200N0280E0SN020+%7C+\n",
        "WA330210N0280E0SN340+%7C+\n",
        "WA330190N0250E0SN040+%7C+\n",
        "WA330200N0230E0SN040+%7C+\n",
        "WA330200N0280E0SN020+%7C+\n",
        "WA330210N0280E0SN340+%7C+\n",
        "WA330170N0300E0SN080+%7C+\n",
        "WA330180N0300E0SN240+%7C+\n",
        "WA330180N0300E0SN260+%7C+\n",
        "WA330200N0280E0SN020+%7C+\n",
        "WA330200N0280E0SN020+%7C+\n",
        "WA330190N0290E0SN280+%7C+\n",
        "WA330190N0290E0SN280+%7C+\n",
        "WA330190N0290E0SN330+%7C+\n",
        "WA330170N0240E0SN100+%7C+\n",
        "WA330170N0240E0SN110+%7C+\n",
        "WA330190N0270E0SN080+%7C+\n",
        "WA330200N0250E0SN110+%7C+\n",
        "```\n",
        "\n",
        "\n",
        "\n",
        "&returnalllevels=&f=pjson&__ncforminfo=7x7RLQJqpDQ92T4PQI_-wSk34fhSp0krCuCkP5nOMe9rVpPf2stN7FAL0CQsbN_c62SdT15Xs7Rs5U4Xfe3epxz0dE12hq0HyWAsrAz430mfnjihcVff8g%3D%3D"
      ],
      "metadata": {
        "id": "fmjzkhbQb0FV"
      }
    },
    {
      "cell_type": "code",
      "source": [
        "#"
      ],
      "metadata": {
        "id": "AiXyUEHocW8D"
      },
      "execution_count": null,
      "outputs": []
    }
  ]
}