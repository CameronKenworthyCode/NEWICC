{
  "nbformat": 4,
  "nbformat_minor": 0,
  "metadata": {
    "colab": {
      "name": "LOG_ANALYZER.ipynb",
      "provenance": [],
      "collapsed_sections": [],
      "authorship_tag": "ABX9TyNCdi96Qu4/ie/z0OEn+hqC",
      "include_colab_link": true
    },
    "kernelspec": {
      "name": "python3",
      "display_name": "Python 3"
    },
    "language_info": {
      "name": "python"
    }
  },
  "cells": [
    {
      "cell_type": "markdown",
      "metadata": {
        "id": "view-in-github",
        "colab_type": "text"
      },
      "source": [
        "<a href=\"https://colab.research.google.com/github/CameronKenworthyCode/NEWICC/blob/main/LOG_ANALYZER.ipynb\" target=\"_parent\"><img src=\"https://colab.research.google.com/assets/colab-badge.svg\" alt=\"Open In Colab\"/></a>"
      ]
    },
    {
      "cell_type": "markdown",
      "metadata": {
        "id": "AohxzGAWqfVT"
      },
      "source": [
        "#Initialize Notebook"
      ]
    },
    {
      "cell_type": "code",
      "metadata": {
        "id": "_BSUaEk4qXKT",
        "colab": {
          "base_uri": "https://localhost:8080/"
        },
        "outputId": "a22efc6f-1c1c-4f69-8032-be01c3e48800"
      },
      "source": [
        "import pandas as pd\n",
        "import numpy as np\n",
        "\n",
        "!pip install -U -q PyDrive\n",
        "import os\n",
        "from pydrive.auth import GoogleAuth\n",
        "from pydrive.drive import GoogleDrive\n",
        "from google.colab import auth\n",
        "from google.colab import drive\n",
        "from oauth2client.client import GoogleCredentials\n",
        "\n",
        "auth.authenticate_user()\n",
        "gauth = GoogleAuth()\n",
        "gauth.credentials = GoogleCredentials.get_application_default()\n",
        "gdrive = GoogleDrive(gauth)\n",
        "\n",
        "local_download_path = os.path.expanduser('~/data')\n",
        "try:\n",
        "  os.makedirs(local_download_path)\n",
        "except: pass\n",
        "\n",
        "drive.mount('/content/drive/')\n",
        "\n",
        "file_list = gdrive.ListFile(\n",
        "    {'q': \"'1fZ-p58kmyIkYnopyDITA0B8tW0me8FXh' in parents\"}).GetList() "
      ],
      "execution_count": 1,
      "outputs": [
        {
          "output_type": "stream",
          "name": "stdout",
          "text": [
            "Mounted at /content/drive/\n"
          ]
        }
      ]
    },
    {
      "cell_type": "code",
      "metadata": {
        "id": "Y-FZm_3Z3n40"
      },
      "source": [
        "# determine encoding of log dump\n",
        "from chardet.universaldetector import UniversalDetector\n",
        "\n",
        "detector = UniversalDetector()\n",
        "for line in open('drive/My Drive/NEWICC/Dump_IncidentLog.csv', 'rb'):\n",
        "  detector.feed(line)\n",
        "  if detector.done:\n",
        "    break\n",
        "detector.close()\n",
        "\n",
        "print(detector.result)"
      ],
      "execution_count": null,
      "outputs": []
    },
    {
      "cell_type": "code",
      "metadata": {
        "id": "zP9ls6aDsw0k",
        "colab": {
          "base_uri": "https://localhost:8080/"
        },
        "outputId": "9145dbf6-214a-41a8-d76b-d8dfbb44a376"
      },
      "source": [
        "log = pd.read_csv('drive/My Drive/NEWICC/Dump_IncidentLog.csv', encoding='cp1252')"
      ],
      "execution_count": 2,
      "outputs": [
        {
          "output_type": "stream",
          "name": "stderr",
          "text": [
            "/usr/local/lib/python3.7/dist-packages/IPython/core/interactiveshell.py:2718: DtypeWarning: Columns (0,1,6) have mixed types.Specify dtype option on import or set low_memory=False.\n",
            "  interactivity=interactivity, compiler=compiler, result=result)\n"
          ]
        }
      ]
    },
    {
      "cell_type": "code",
      "metadata": {
        "id": "_AgtqAaYoROY",
        "colab": {
          "base_uri": "https://localhost:8080/"
        },
        "outputId": "45848a90-7ec1-4081-83da-ecd8b15e0d72"
      },
      "source": [
        "log['LogDate']"
      ],
      "execution_count": 4,
      "outputs": [
        {
          "output_type": "execute_result",
          "data": {
            "text/plain": [
              "0         2011-01-04 10:43:18\n",
              "1         2011-01-04 10:51:36\n",
              "2         2011-01-04 11:01:23\n",
              "3         2011-01-04 11:12:48\n",
              "4         2011-01-04 11:23:48\n",
              "                 ...         \n",
              "386024    2021-10-25 08:16:21\n",
              "386025    2021-10-25 08:24:15\n",
              "386026    2021-10-25 09:06:27\n",
              "386027    2021-10-25 09:27:36\n",
              "386028    2021-10-25 10:29:04\n",
              "Name: LogDate, Length: 386029, dtype: object"
            ]
          },
          "metadata": {},
          "execution_count": 4
        }
      ]
    },
    {
      "cell_type": "markdown",
      "metadata": {
        "id": "FUMY6CvdqLti"
      },
      "source": [
        "#Clean Dataframe"
      ]
    },
    {
      "cell_type": "code",
      "metadata": {
        "colab": {
          "base_uri": "https://localhost:8080/",
          "height": 419
        },
        "id": "hzuXkPo8qmY-",
        "outputId": "49bdae06-ca51-4fc2-acf8-339048f432e5"
      },
      "source": [
        "log"
      ],
      "execution_count": 5,
      "outputs": [
        {
          "output_type": "execute_result",
          "data": {
            "text/html": [
              "<div>\n",
              "<style scoped>\n",
              "    .dataframe tbody tr th:only-of-type {\n",
              "        vertical-align: middle;\n",
              "    }\n",
              "\n",
              "    .dataframe tbody tr th {\n",
              "        vertical-align: top;\n",
              "    }\n",
              "\n",
              "    .dataframe thead th {\n",
              "        text-align: right;\n",
              "    }\n",
              "</style>\n",
              "<table border=\"1\" class=\"dataframe\">\n",
              "  <thead>\n",
              "    <tr style=\"text-align: right;\">\n",
              "      <th></th>\n",
              "      <th>IncidentLogID</th>\n",
              "      <th>IncidentID</th>\n",
              "      <th>LogDate</th>\n",
              "      <th>LogFrom</th>\n",
              "      <th>LogTo</th>\n",
              "      <th>Describe</th>\n",
              "      <th>IsStrikeThrough</th>\n",
              "      <th>CatID</th>\n",
              "      <th>SubCatID</th>\n",
              "    </tr>\n",
              "  </thead>\n",
              "  <tbody>\n",
              "    <tr>\n",
              "      <th>0</th>\n",
              "      <td>54594</td>\n",
              "      <td>4123</td>\n",
              "      <td>2011-01-04 10:43:18</td>\n",
              "      <td>LK</td>\n",
              "      <td>N5VE</td>\n",
              "      <td>tried on national - no contact</td>\n",
              "      <td>False</td>\n",
              "      <td>0.0</td>\n",
              "      <td>0.0</td>\n",
              "    </tr>\n",
              "    <tr>\n",
              "      <th>1</th>\n",
              "      <td>54595</td>\n",
              "      <td>4123</td>\n",
              "      <td>2011-01-04 10:51:36</td>\n",
              "      <td>LK</td>\n",
              "      <td>N5VE</td>\n",
              "      <td>tried all three cells - went to voice mail exc...</td>\n",
              "      <td>False</td>\n",
              "      <td>0.0</td>\n",
              "      <td>0.0</td>\n",
              "    </tr>\n",
              "    <tr>\n",
              "      <th>2</th>\n",
              "      <td>54596</td>\n",
              "      <td>4123</td>\n",
              "      <td>2011-01-04 11:01:23</td>\n",
              "      <td>LK</td>\n",
              "      <td>N5VE</td>\n",
              "      <td>made phone contact with Doug - he is putting i...</td>\n",
              "      <td>False</td>\n",
              "      <td>0.0</td>\n",
              "      <td>0.0</td>\n",
              "    </tr>\n",
              "    <tr>\n",
              "      <th>3</th>\n",
              "      <td>54597</td>\n",
              "      <td>4123</td>\n",
              "      <td>2011-01-04 11:12:48</td>\n",
              "      <td>CWICC</td>\n",
              "      <td>5VE</td>\n",
              "      <td>attempted to notify NEWICC - no longer can fli...</td>\n",
              "      <td>False</td>\n",
              "      <td>0.0</td>\n",
              "      <td>0.0</td>\n",
              "    </tr>\n",
              "    <tr>\n",
              "      <th>4</th>\n",
              "      <td>54598</td>\n",
              "      <td>4123</td>\n",
              "      <td>2011-01-04 11:23:48</td>\n",
              "      <td>N5VE</td>\n",
              "      <td>LK</td>\n",
              "      <td>abandoning mission - too foggy - confirmed fut...</td>\n",
              "      <td>False</td>\n",
              "      <td>0.0</td>\n",
              "      <td>0.0</td>\n",
              "    </tr>\n",
              "    <tr>\n",
              "      <th>...</th>\n",
              "      <td>...</td>\n",
              "      <td>...</td>\n",
              "      <td>...</td>\n",
              "      <td>...</td>\n",
              "      <td>...</td>\n",
              "      <td>...</td>\n",
              "      <td>...</td>\n",
              "      <td>...</td>\n",
              "      <td>...</td>\n",
              "    </tr>\n",
              "    <tr>\n",
              "      <th>386024</th>\n",
              "      <td>510937</td>\n",
              "      <td>22960</td>\n",
              "      <td>2021-10-25 08:16:21</td>\n",
              "      <td>TRAUTMAN</td>\n",
              "      <td>HE</td>\n",
              "      <td>I/S WORKING IN 26/41/1</td>\n",
              "      <td>False</td>\n",
              "      <td>NaN</td>\n",
              "      <td>NaN</td>\n",
              "    </tr>\n",
              "    <tr>\n",
              "      <th>386025</th>\n",
              "      <td>510938</td>\n",
              "      <td>22960</td>\n",
              "      <td>2021-10-25 08:24:15</td>\n",
              "      <td>HT 42</td>\n",
              "      <td>HE</td>\n",
              "      <td>I/S C/10 HT 45 C/6 EN ROUTE TO 16/43/4 1 HR 20...</td>\n",
              "      <td>False</td>\n",
              "      <td>NaN</td>\n",
              "      <td>NaN</td>\n",
              "    </tr>\n",
              "    <tr>\n",
              "      <th>386026</th>\n",
              "      <td>510942</td>\n",
              "      <td>22960</td>\n",
              "      <td>2021-10-25 09:06:27</td>\n",
              "      <td>HT 41</td>\n",
              "      <td>HE</td>\n",
              "      <td>I/S C/8 26/42/6</td>\n",
              "      <td>False</td>\n",
              "      <td>NaN</td>\n",
              "      <td>NaN</td>\n",
              "    </tr>\n",
              "    <tr>\n",
              "      <th>386027</th>\n",
              "      <td>510953</td>\n",
              "      <td>24838</td>\n",
              "      <td>2021-10-25 09:27:36</td>\n",
              "      <td>DIV 6101</td>\n",
              "      <td>HE</td>\n",
              "      <td>MYSELF +2 IN SEP VEH EN ROUTE WE JUST HIT TONA...</td>\n",
              "      <td>False</td>\n",
              "      <td>NaN</td>\n",
              "      <td>NaN</td>\n",
              "    </tr>\n",
              "    <tr>\n",
              "      <th>386028</th>\n",
              "      <td>510988</td>\n",
              "      <td>24833</td>\n",
              "      <td>2021-10-25 10:29:04</td>\n",
              "      <td>IC</td>\n",
              "      <td>CK PART 2</td>\n",
              "      <td>0 0 0 0 CONTAINED 10/19 @ 1810</td>\n",
              "      <td>False</td>\n",
              "      <td>NaN</td>\n",
              "      <td>NaN</td>\n",
              "    </tr>\n",
              "  </tbody>\n",
              "</table>\n",
              "<p>386029 rows × 9 columns</p>\n",
              "</div>"
            ],
            "text/plain": [
              "       IncidentLogID IncidentID  ... CatID SubCatID\n",
              "0              54594       4123  ...   0.0      0.0\n",
              "1              54595       4123  ...   0.0      0.0\n",
              "2              54596       4123  ...   0.0      0.0\n",
              "3              54597       4123  ...   0.0      0.0\n",
              "4              54598       4123  ...   0.0      0.0\n",
              "...              ...        ...  ...   ...      ...\n",
              "386024        510937      22960  ...   NaN      NaN\n",
              "386025        510938      22960  ...   NaN      NaN\n",
              "386026        510942      22960  ...   NaN      NaN\n",
              "386027        510953      24838  ...   NaN      NaN\n",
              "386028        510988      24833  ...   NaN      NaN\n",
              "\n",
              "[386029 rows x 9 columns]"
            ]
          },
          "metadata": {},
          "execution_count": 5
        }
      ]
    },
    {
      "cell_type": "code",
      "metadata": {
        "id": "jglSuVPutKiP"
      },
      "source": [
        "from dateutil import parser\n",
        "\n",
        "x = parser.parse(log['LogDate'][0])\n"
      ],
      "execution_count": 6,
      "outputs": []
    },
    {
      "cell_type": "code",
      "metadata": {
        "id": "y93d73OnqIj5",
        "colab": {
          "base_uri": "https://localhost:8080/"
        },
        "outputId": "c05c55bc-1117-4d08-8b15-707af3dedb7d"
      },
      "source": [
        "x.date()"
      ],
      "execution_count": 14,
      "outputs": [
        {
          "output_type": "execute_result",
          "data": {
            "text/plain": [
              "datetime.date(2011, 1, 4)"
            ]
          },
          "metadata": {},
          "execution_count": 14
        }
      ]
    },
    {
      "cell_type": "code",
      "metadata": {
        "colab": {
          "base_uri": "https://localhost:8080/"
        },
        "id": "eVCEaXO1lh_i",
        "outputId": "cea108fb-44d0-47d1-8e03-c6c53caba9da"
      },
      "source": [
        "log['LogFrom'].value_counts()[:20]"
      ],
      "execution_count": 22,
      "outputs": [
        {
          "output_type": "execute_result",
          "data": {
            "text/plain": [
              "IC         37933\n",
              "JJ          9025\n",
              "AR DO       6474\n",
              "CR          6420\n",
              "HL          5079\n",
              "ICT         4397\n",
              "JF          4118\n",
              "VR          4071\n",
              "IC          3451\n",
              "JS          3426\n",
              "AR 62       3078\n",
              "AR 61       2936\n",
              "IC-T        2684\n",
              "DO          2638\n",
              "RECON 1     2508\n",
              "NC 61       2420\n",
              "TA          2412\n",
              "NC 62       2392\n",
              "AR 63       2325\n",
              "HS          2250\n",
              "Name: LogFrom, dtype: int64"
            ]
          },
          "metadata": {},
          "execution_count": 22
        }
      ]
    },
    {
      "cell_type": "code",
      "metadata": {
        "colab": {
          "base_uri": "https://localhost:8080/"
        },
        "id": "Fe989OGup1SN",
        "outputId": "624c2d46-86e8-4b38-880e-519949ad951c"
      },
      "source": [
        "log['LogTo'].value_counts()[:20]"
      ],
      "execution_count": 24,
      "outputs": [
        {
          "output_type": "execute_result",
          "data": {
            "text/plain": [
              "CR       20405\n",
              "HL       18144\n",
              "JF       15395\n",
              "VR       14257\n",
              "TA       14087\n",
              "JS       11328\n",
              "JJ       10189\n",
              "CH        9921\n",
              "LOG       9645\n",
              "EG        7894\n",
              "TG        7330\n",
              "KTG       6971\n",
              "TL        6396\n",
              "HML       6175\n",
              "HS        6073\n",
              "PF        6049\n",
              "CK        5872\n",
              "LK        5615\n",
              "Email     5414\n",
              "IC        5268\n",
              "Name: LogTo, dtype: int64"
            ]
          },
          "metadata": {},
          "execution_count": 24
        }
      ]
    },
    {
      "cell_type": "code",
      "metadata": {
        "id": "cVhke3J7rXa3"
      },
      "source": [
        ""
      ],
      "execution_count": null,
      "outputs": []
    }
  ]
}