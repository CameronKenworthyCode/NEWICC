{
  "nbformat": 4,
  "nbformat_minor": 0,
  "metadata": {
    "colab": {
      "name": "LOG_ANALYZER.ipynb",
      "provenance": [],
      "collapsed_sections": [],
      "authorship_tag": "ABX9TyNpAovQ9O2dAL1DFSHjRIBR",
      "include_colab_link": true
    },
    "kernelspec": {
      "name": "python3",
      "display_name": "Python 3"
    },
    "language_info": {
      "name": "python"
    }
  },
  "cells": [
    {
      "cell_type": "markdown",
      "metadata": {
        "id": "view-in-github",
        "colab_type": "text"
      },
      "source": [
        "<a href=\"https://colab.research.google.com/github/CameronKenworthyCode/NEWICC/blob/main/LOG_ANALYZER.ipynb\" target=\"_parent\"><img src=\"https://colab.research.google.com/assets/colab-badge.svg\" alt=\"Open In Colab\"/></a>"
      ]
    },
    {
      "cell_type": "markdown",
      "metadata": {
        "id": "AohxzGAWqfVT"
      },
      "source": [
        "#Initialize Notebook"
      ]
    },
    {
      "cell_type": "code",
      "metadata": {
        "id": "_BSUaEk4qXKT"
      },
      "source": [
        "import pandas as pd\n",
        "import numpy as np\n",
        "\n",
        "!pip install -U -q PyDrive\n",
        "import os\n",
        "from pydrive.auth import GoogleAuth\n",
        "from pydrive.drive import GoogleDrive\n",
        "from google.colab import auth\n",
        "from google.colab import drive\n",
        "from oauth2client.client import GoogleCredentials\n",
        "\n",
        "auth.authenticate_user()\n",
        "gauth = GoogleAuth()\n",
        "gauth.credentials = GoogleCredentials.get_application_default()\n",
        "gdrive = GoogleDrive(gauth)\n",
        "\n",
        "local_download_path = os.path.expanduser('~/data')\n",
        "try:\n",
        "  os.makedirs(local_download_path)\n",
        "except: pass\n",
        "\n",
        "drive.mount('/content/drive/')\n",
        "\n",
        "file_list = gdrive.ListFile(\n",
        "    {'q': \"'1fZ-p58kmyIkYnopyDITA0B8tW0me8FXh' in parents\"}).GetList() "
      ],
      "execution_count": null,
      "outputs": []
    },
    {
      "cell_type": "code",
      "metadata": {
        "id": "Y-FZm_3Z3n40"
      },
      "source": [
        "# determine encoding of log dump\n",
        "from chardet.universaldetector import UniversalDetector\n",
        "\n",
        "detector = UniversalDetector()\n",
        "for line in open('drive/My Drive/NEWICC/Dump_IncidentLog.csv', 'rb'):\n",
        "  detector.feed(line)\n",
        "  if detector.done:\n",
        "    break\n",
        "detector.close()\n",
        "\n",
        "print(detector.result)"
      ],
      "execution_count": null,
      "outputs": []
    },
    {
      "cell_type": "code",
      "metadata": {
        "id": "zP9ls6aDsw0k"
      },
      "source": [
        "log = pd.read_csv('drive/My Drive/NEWICC/Dump_IncidentLog.csv', encoding='cp1252')"
      ],
      "execution_count": null,
      "outputs": []
    },
    {
      "cell_type": "code",
      "metadata": {
        "id": "_AgtqAaYoROY"
      },
      "source": [
        "log['LogDate']"
      ],
      "execution_count": null,
      "outputs": []
    },
    {
      "cell_type": "markdown",
      "metadata": {
        "id": "FUMY6CvdqLti"
      },
      "source": [
        "#Clean Dataframe"
      ]
    },
    {
      "cell_type": "code",
      "metadata": {
        "colab": {
          "base_uri": "https://localhost:8080/",
          "height": 874
        },
        "id": "hzuXkPo8qmY-",
        "outputId": "f94d7300-38e1-49e1-eeeb-a4aa9b4e3251"
      },
      "source": [
        "log"
      ],
      "execution_count": 42,
      "outputs": [
        {
          "output_type": "execute_result",
          "data": {
            "text/html": [
              "<div>\n",
              "<style scoped>\n",
              "    .dataframe tbody tr th:only-of-type {\n",
              "        vertical-align: middle;\n",
              "    }\n",
              "\n",
              "    .dataframe tbody tr th {\n",
              "        vertical-align: top;\n",
              "    }\n",
              "\n",
              "    .dataframe thead th {\n",
              "        text-align: right;\n",
              "    }\n",
              "</style>\n",
              "<table border=\"1\" class=\"dataframe\">\n",
              "  <thead>\n",
              "    <tr style=\"text-align: right;\">\n",
              "      <th></th>\n",
              "      <th>IncidentLogID</th>\n",
              "      <th>IncidentID</th>\n",
              "      <th>LogDate</th>\n",
              "      <th>LogFrom</th>\n",
              "      <th>LogTo</th>\n",
              "      <th>Describe</th>\n",
              "      <th>IsStrikeThrough</th>\n",
              "      <th>CatID</th>\n",
              "      <th>SubCatID</th>\n",
              "    </tr>\n",
              "  </thead>\n",
              "  <tbody>\n",
              "    <tr>\n",
              "      <th>0</th>\n",
              "      <td>54594</td>\n",
              "      <td>4123</td>\n",
              "      <td>1/4/2011 10:43</td>\n",
              "      <td>LK</td>\n",
              "      <td>N5VE</td>\n",
              "      <td>tried on national - no contact</td>\n",
              "      <td>False</td>\n",
              "      <td>0.0</td>\n",
              "      <td>0.0</td>\n",
              "    </tr>\n",
              "    <tr>\n",
              "      <th>1</th>\n",
              "      <td>54595</td>\n",
              "      <td>4123</td>\n",
              "      <td>1/4/2011 10:51</td>\n",
              "      <td>LK</td>\n",
              "      <td>N5VE</td>\n",
              "      <td>tried all three cells - went to voice mail exc...</td>\n",
              "      <td>False</td>\n",
              "      <td>0.0</td>\n",
              "      <td>0.0</td>\n",
              "    </tr>\n",
              "    <tr>\n",
              "      <th>2</th>\n",
              "      <td>54596</td>\n",
              "      <td>4123</td>\n",
              "      <td>1/4/2011 11:01</td>\n",
              "      <td>LK</td>\n",
              "      <td>N5VE</td>\n",
              "      <td>made phone contact with Doug - he is putting i...</td>\n",
              "      <td>False</td>\n",
              "      <td>0.0</td>\n",
              "      <td>0.0</td>\n",
              "    </tr>\n",
              "    <tr>\n",
              "      <th>3</th>\n",
              "      <td>54597</td>\n",
              "      <td>4123</td>\n",
              "      <td>1/4/2011 11:12</td>\n",
              "      <td>CWICC</td>\n",
              "      <td>5VE</td>\n",
              "      <td>attempted to notify NEWICC - no longer can fli...</td>\n",
              "      <td>False</td>\n",
              "      <td>0.0</td>\n",
              "      <td>0.0</td>\n",
              "    </tr>\n",
              "    <tr>\n",
              "      <th>4</th>\n",
              "      <td>54598</td>\n",
              "      <td>4123</td>\n",
              "      <td>1/4/2011 11:23</td>\n",
              "      <td>N5VE</td>\n",
              "      <td>LK</td>\n",
              "      <td>abandoning mission - too foggy - confirmed fut...</td>\n",
              "      <td>False</td>\n",
              "      <td>0.0</td>\n",
              "      <td>0.0</td>\n",
              "    </tr>\n",
              "    <tr>\n",
              "      <th>...</th>\n",
              "      <td>...</td>\n",
              "      <td>...</td>\n",
              "      <td>...</td>\n",
              "      <td>...</td>\n",
              "      <td>...</td>\n",
              "      <td>...</td>\n",
              "      <td>...</td>\n",
              "      <td>...</td>\n",
              "      <td>...</td>\n",
              "    </tr>\n",
              "    <tr>\n",
              "      <th>343217</th>\n",
              "      <td>467267</td>\n",
              "      <td>22965</td>\n",
              "      <td>6/12/2021 17:16</td>\n",
              "      <td>HOLLAND</td>\n",
              "      <td>HE</td>\n",
              "      <td>CHAMBERLAIN AND I BAS AN DOOS</td>\n",
              "      <td>False</td>\n",
              "      <td>NaN</td>\n",
              "      <td>NaN</td>\n",
              "    </tr>\n",
              "    <tr>\n",
              "      <th>343218</th>\n",
              "      <td>467268</td>\n",
              "      <td>23676</td>\n",
              "      <td>6/12/2021 17:18</td>\n",
              "      <td>HE</td>\n",
              "      <td>NaN</td>\n",
              "      <td>Acres set to 0.1</td>\n",
              "      <td>NaN</td>\n",
              "      <td>NaN</td>\n",
              "      <td>NaN</td>\n",
              "    </tr>\n",
              "    <tr>\n",
              "      <th>343219</th>\n",
              "      <td>467269</td>\n",
              "      <td>22965</td>\n",
              "      <td>6/12/2021 17:19</td>\n",
              "      <td>ALLUM</td>\n",
              "      <td>HE</td>\n",
              "      <td>DENTON AND I BAS AND OOS</td>\n",
              "      <td>False</td>\n",
              "      <td>NaN</td>\n",
              "      <td>NaN</td>\n",
              "    </tr>\n",
              "    <tr>\n",
              "      <th>343220</th>\n",
              "      <td>467272</td>\n",
              "      <td>23031</td>\n",
              "      <td>6/12/2021 17:42</td>\n",
              "      <td>KAN DO</td>\n",
              "      <td>HE</td>\n",
              "      <td>ALL RESOURCES ARE CLEAR OFF INC AND EN ROUTE BAS</td>\n",
              "      <td>False</td>\n",
              "      <td>NaN</td>\n",
              "      <td>NaN</td>\n",
              "    </tr>\n",
              "    <tr>\n",
              "      <th>343221</th>\n",
              "      <td>467273</td>\n",
              "      <td>23676</td>\n",
              "      <td>6/12/2021 17:52</td>\n",
              "      <td>IC</td>\n",
              "      <td>HE</td>\n",
              "      <td>FIRE 99% MOPPED UP ALL DNR RESOURCES ARE CELAR...</td>\n",
              "      <td>False</td>\n",
              "      <td>NaN</td>\n",
              "      <td>NaN</td>\n",
              "    </tr>\n",
              "  </tbody>\n",
              "</table>\n",
              "<p>343222 rows × 9 columns</p>\n",
              "</div>"
            ],
            "text/plain": [
              "       IncidentLogID IncidentID  ... CatID SubCatID\n",
              "0              54594       4123  ...   0.0      0.0\n",
              "1              54595       4123  ...   0.0      0.0\n",
              "2              54596       4123  ...   0.0      0.0\n",
              "3              54597       4123  ...   0.0      0.0\n",
              "4              54598       4123  ...   0.0      0.0\n",
              "...              ...        ...  ...   ...      ...\n",
              "343217        467267      22965  ...   NaN      NaN\n",
              "343218        467268      23676  ...   NaN      NaN\n",
              "343219        467269      22965  ...   NaN      NaN\n",
              "343220        467272      23031  ...   NaN      NaN\n",
              "343221        467273      23676  ...   NaN      NaN\n",
              "\n",
              "[343222 rows x 9 columns]"
            ]
          },
          "metadata": {
            "tags": []
          },
          "execution_count": 42
        }
      ]
    },
    {
      "cell_type": "code",
      "metadata": {
        "id": "jglSuVPutKiP"
      },
      "source": [
        "from dateutil import parser\n",
        "\n",
        "x = parser.parse(log['LogDate'][0])\n"
      ],
      "execution_count": 40,
      "outputs": []
    },
    {
      "cell_type": "code",
      "metadata": {
        "id": "y93d73OnqIj5"
      },
      "source": [
        ""
      ],
      "execution_count": null,
      "outputs": []
    }
  ]
}